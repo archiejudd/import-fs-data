{
 "cells": [
  {
   "cell_type": "code",
   "execution_count": 8,
   "metadata": {
    "scrolled": true
   },
   "outputs": [
    {
     "name": "stdout",
     "output_type": "stream",
     "text": [
      "hello world from financial_statement_functions\n"
     ]
    }
   ],
   "source": [
    "import tabula\n",
    "import pandas as pd\n",
    "import numpy as np\n",
    "import math\n",
    "#import importnb\n",
    "#import financial_statement_functions\n",
    "import pandas as pd \n",
    "import PyPDF2, re\n",
    "import operator\n",
    "\n",
    "# Inputs \n",
    "\n",
    "company_name = \"unilever\"\n",
    "company_ticker = \"LON_ULVR\"\n",
    "year = {\"current\":2019, \"prior\":2018}\n",
    "\n",
    "audit_firms = [\"KPMG\",\"EY\",\"Ernst & Young\", \"PwC\",\"PricewaterhouseCoopers\",\"Deloitte\"]\n",
    "\n",
    "accounts_data_dict = {}\n",
    "account_type_array = []\n",
    "\n",
    "%run financial_statement_functions.ipynb\n"
   ]
  },
  {
   "cell_type": "code",
   "execution_count": 11,
   "metadata": {},
   "outputs": [
    {
     "name": "stdout",
     "output_type": "stream",
     "text": [
      "Current pdf in use is: LON_ULVR_2019.pdf\n"
     ]
    }
   ],
   "source": [
    "print(\"Current pdf in use is: %s_%s.pdf\"%(company_ticker, year['current']))"
   ]
  },
  {
   "cell_type": "code",
   "execution_count": 10,
   "metadata": {},
   "outputs": [],
   "source": [
    "from tika import parser # pip install tika\n",
    "\n",
    "raw = parser.from_file(\"%s_%s.pdf\"%(company_ticker, year['current']))\n",
    "#print(raw['content'])\n",
    "\n",
    "# # If using textract - not currently working \n",
    "# # Extract all text data from pdf\n",
    "# import textract\n",
    "# text_raw_textract = textract.process(\"%s_%s.pdf\"%(company_ticker, year['current']))"
   ]
  },
  {
   "cell_type": "code",
   "execution_count": 12,
   "metadata": {},
   "outputs": [
    {
     "name": "stdout",
     "output_type": "stream",
     "text": [
      "['KPMG', 'EY', 'Ernst & Young', 'PwC', 'PricewaterhouseCoopers', 'Deloitte']\n",
      "[38, 0, 0, 8, 4, 0]\n",
      "KPMG\n"
     ]
    }
   ],
   "source": [
    "\n",
    "# Get auditor based on highest occurence\n",
    "x, y = get_number_of_strings_in_doc_with_max(audit_firms, raw['content'])\n",
    "audit_firm = audit_firms[y]\n",
    "print(audit_firms)\n",
    "print(x)\n",
    "print(audit_firm)\n"
   ]
  },
  {
   "cell_type": "code",
   "execution_count": 5,
   "metadata": {},
   "outputs": [
    {
     "name": "stdout",
     "output_type": "stream",
     "text": [
      "[81]\n"
     ]
    }
   ],
   "source": [
    "\n",
    "# Get pdf page number for audit opinion\n",
    "page_array = financial_statement_functions.fnPDF_FindText(\"%s_%s.pdf\"%(company_ticker, year['current']), \"our opinions are unmodified\")\n",
    "print(page_array)\n"
   ]
  },
  {
   "cell_type": "code",
   "execution_count": 6,
   "metadata": {},
   "outputs": [],
   "source": [
    "# get text from page with audit opinion\n",
    "pdfDoc = PyPDF2.PdfFileReader(open(\"%s_%s.pdf\"%(company_ticker, year['current']), \"rb\"))\n",
    "content = pdfDoc.getPage(page_array[0]).extractText()\n"
   ]
  },
  {
   "cell_type": "code",
   "execution_count": 11,
   "metadata": {},
   "outputs": [
    {
     "name": "stdout",
     "output_type": "stream",
     "text": [
      "KPMG\n",
      "10\n",
      "EY\n",
      "0\n",
      "Ernst & Young\n",
      "0\n",
      "PwC\n",
      "0\n",
      "PricewaterhouseCoopers\n",
      "0\n",
      "Deloitte\n",
      "0\n",
      "['KPMG', 10]\n"
     ]
    }
   ],
   "source": [
    "\n",
    "top_firm_count = [\"\",0]\n",
    "\n",
    "for firm in audit_firms:\n",
    "\n",
    "    m = re.findall(firm, content)\n",
    "    occurences_of_firm_string = len(m)\n",
    "    \n",
    "    print(firm)\n",
    "    print(occurences_of_firm_string)\n",
    "    \n",
    "    if len(m)> top_firm_count[1]:\n",
    "        \n",
    "        top_firm_count[0]= firm\n",
    "        top_firm_count[1]= len(m)\n",
    "        \n",
    "print(top_firm_count)\n"
   ]
  },
  {
   "cell_type": "code",
   "execution_count": 12,
   "metadata": {
    "scrolled": true
   },
   "outputs": [
    {
     "name": "stderr",
     "output_type": "stream",
     "text": [
      "Got stderr: Aug 12, 2020 10:30:57 PM org.apache.pdfbox.rendering.PDFRenderer suggestKCMS\n",
      "INFO: Your current java version is: 1.8.0_101\n",
      "Aug 12, 2020 10:30:57 PM org.apache.pdfbox.rendering.PDFRenderer suggestKCMS\n",
      "INFO: To get higher rendering speed on old java 1.8 or 9 versions,\n",
      "Aug 12, 2020 10:30:57 PM org.apache.pdfbox.rendering.PDFRenderer suggestKCMS\n",
      "INFO:   update to the latest 1.8 or 9 version (>= 1.8.0_191 or >= 9.0.4),\n",
      "Aug 12, 2020 10:30:57 PM org.apache.pdfbox.rendering.PDFRenderer suggestKCMS\n",
      "INFO:   or\n",
      "Aug 12, 2020 10:30:57 PM org.apache.pdfbox.rendering.PDFRenderer suggestKCMS\n",
      "INFO:   use the option -Dsun.java2d.cmm=sun.java2d.cmm.kcms.KcmsServiceProvider\n",
      "Aug 12, 2020 10:30:57 PM org.apache.pdfbox.rendering.PDFRenderer suggestKCMS\n",
      "INFO:   or call System.setProperty(\"sun.java2d.cmm\", \"sun.java2d.cmm.kcms.KcmsServiceProvider\")\n",
      "\n"
     ]
    },
    {
     "name": "stdout",
     "output_type": "stream",
     "text": [
      "\n",
      "[                                                    0    1        2        3  \\\n",
      "0                                            Turnover    2   51,980   50,982   \n",
      "1                                    Operating profit    2    8,708   12,639   \n",
      "2   Which includes non-underlying item credits/(ch...    3  (1,239)    3,176   \n",
      "3                                   Net finance costs    5    (627)    (608)   \n",
      "4                                      Finance income  NaN      224      135   \n",
      "5                                       Finance costs  NaN    (821)    (718)   \n",
      "6                    Pensions and similar obligations  NaN     (30)     (25)   \n",
      "7               Net finance cost non-underlying items    3        –        –   \n",
      "8   Non-underlying item net monetary gain/(loss) a...  1,3       32      122   \n",
      "9   Share of net profit/(loss) of joint ventures a...   11      176      185   \n",
      "10  Which includes non-underlying item credits/(ch...    3        3       32   \n",
      "11  Other income/(loss) from non-current investmen...  NaN        -       22   \n",
      "12                             Profit before taxation  NaN    8,289   12,360   \n",
      "13                                           Taxation   6A  (2,263)  (2,572)   \n",
      "14  Which includes tax impact of non-underlying it...    3      113    (288)   \n",
      "15                                         Net profit  NaN    6,026    9,788   \n",
      "16                                   Attributable to:  NaN      NaN      NaN   \n",
      "17                          Non-controlling interests  NaN      401      419   \n",
      "18                               Shareholders’ equity  NaN    5,625    9,369   \n",
      "19                        Combined earnings per share    7      NaN      NaN   \n",
      "20                       Basic earnings per share (€)  NaN     2.15     3.49   \n",
      "21                     Diluted earnings per share (€)  NaN     2.14     3.48   \n",
      "\n",
      "          4  \n",
      "0    53,715  \n",
      "1     8,957  \n",
      "2     (543)  \n",
      "3   (1,004)  \n",
      "4       157  \n",
      "5     (683)  \n",
      "6      (96)  \n",
      "7     (382)  \n",
      "8         –  \n",
      "9       155  \n",
      "10        –  \n",
      "11       18  \n",
      "12    8,126  \n",
      "13  (1,670)  \n",
      "14      655  \n",
      "15    6,456  \n",
      "16      NaN  \n",
      "17      433  \n",
      "18    6,023  \n",
      "19      NaN  \n",
      "20     2.15  \n",
      "21     2.14  ]\n",
      "                                                   0    1        2       3  \\\n",
      "0                                           Turnover    2   51,980  50,982   \n",
      "1                                   Operating profit    2    8,708  12,639   \n",
      "2  Which includes non-underlying item credits/(ch...    3  (1,239)   3,176   \n",
      "3                                  Net finance costs    5    (627)   (608)   \n",
      "4                                     Finance income  NaN      224     135   \n",
      "\n",
      "         4  \n",
      "0   53,715  \n",
      "1    8,957  \n",
      "2    (543)  \n",
      "3  (1,004)  \n",
      "4      157  \n"
     ]
    }
   ],
   "source": [
    "\n",
    "# to automate page finding - currently pg78 for 2018 and pg90 for 2019 pg 89 for 2017\n",
    "# use header: None as otherwise this pulls the first row as the column headers\n",
    "\n",
    "# df = tabula.read_pdf(\"LON_ULVR_2017.pdf\", pages=89)\n",
    "# print(df)\n",
    "\n",
    "df = tabula.read_pdf(\"%s_%s.pdf\"%(company_ticker, year['current']),pandas_options={'header': None}, pages=90)\n",
    "print(\"\")\n",
    "print(df)\n",
    "print(df[0].head(5))"
   ]
  },
  {
   "cell_type": "code",
   "execution_count": 13,
   "metadata": {},
   "outputs": [
    {
     "name": "stdout",
     "output_type": "stream",
     "text": [
      "<class 'pandas.core.frame.DataFrame'>\n",
      "RangeIndex: 22 entries, 0 to 21\n",
      "Data columns (total 5 columns):\n",
      " #   Column  Non-Null Count  Dtype \n",
      "---  ------  --------------  ----- \n",
      " 0   0       22 non-null     object\n",
      " 1   1       11 non-null     object\n",
      " 2   2       20 non-null     object\n",
      " 3   3       20 non-null     object\n",
      " 4   4       20 non-null     object\n",
      "dtypes: object(5)\n",
      "memory usage: 1008.0+ bytes\n",
      "None\n"
     ]
    }
   ],
   "source": [
    "# Profit and Loss Finder\n",
    "print(df[0].info())\n"
   ]
  },
  {
   "cell_type": "code",
   "execution_count": 5,
   "metadata": {},
   "outputs": [
    {
     "ename": "TypeError",
     "evalue": "'builtin_function_or_method' object is not subscriptable",
     "output_type": "error",
     "traceback": [
      "\u001b[0;31m---------------------------------------------------------------------------\u001b[0m",
      "\u001b[0;31mTypeError\u001b[0m                                 Traceback (most recent call last)",
      "\u001b[0;32m<ipython-input-5-80a1ef077b85>\u001b[0m in \u001b[0;36mget_P_and_L_lines\u001b[0;34m(input_P_and_L_dataframe, year)\u001b[0m\n\u001b[1;32m     19\u001b[0m         \u001b[0;32mtry\u001b[0m\u001b[0;34m:\u001b[0m\u001b[0;34m\u001b[0m\u001b[0;34m\u001b[0m\u001b[0m\n\u001b[0;32m---> 20\u001b[0;31m             \u001b[0md\u001b[0m \u001b[0;34m=\u001b[0m \u001b[0mmath\u001b[0m\u001b[0;34m.\u001b[0m\u001b[0misnan\u001b[0m\u001b[0;34m(\u001b[0m\u001b[0mP_and_L_name\u001b[0m\u001b[0;34m)\u001b[0m\u001b[0;34m\u001b[0m\u001b[0;34m\u001b[0m\u001b[0m\n\u001b[0m\u001b[1;32m     21\u001b[0m         \u001b[0;32mexcept\u001b[0m\u001b[0;34m:\u001b[0m\u001b[0;34m\u001b[0m\u001b[0;34m\u001b[0m\u001b[0m\n",
      "\u001b[0;31mTypeError\u001b[0m: must be real number, not str",
      "\nDuring handling of the above exception, another exception occurred:\n",
      "\u001b[0;31mTypeError\u001b[0m                                 Traceback (most recent call last)",
      "\u001b[0;32m<ipython-input-5-80a1ef077b85>\u001b[0m in \u001b[0;36m<module>\u001b[0;34m\u001b[0m\n\u001b[1;32m     59\u001b[0m \u001b[0;34m\u001b[0m\u001b[0m\n\u001b[1;32m     60\u001b[0m \u001b[0;34m\u001b[0m\u001b[0m\n\u001b[0;32m---> 61\u001b[0;31m \u001b[0maccounts_data_dict\u001b[0m \u001b[0;34m=\u001b[0m \u001b[0mget_P_and_L_lines\u001b[0m\u001b[0;34m(\u001b[0m\u001b[0mdf\u001b[0m\u001b[0;34m,\u001b[0m \u001b[0myear\u001b[0m\u001b[0;34m)\u001b[0m\u001b[0;34m\u001b[0m\u001b[0;34m\u001b[0m\u001b[0m\n\u001b[0m\u001b[1;32m     62\u001b[0m \u001b[0mprint\u001b[0m\u001b[0;34m(\u001b[0m\u001b[0maccounts_data_dict\u001b[0m\u001b[0;34m)\u001b[0m\u001b[0;34m\u001b[0m\u001b[0;34m\u001b[0m\u001b[0m\n",
      "\u001b[0;32m<ipython-input-5-80a1ef077b85>\u001b[0m in \u001b[0;36mget_P_and_L_lines\u001b[0;34m(input_P_and_L_dataframe, year)\u001b[0m\n\u001b[1;32m     27\u001b[0m                     \u001b[0mP_and_L_name_array\u001b[0m\u001b[0;34m.\u001b[0m\u001b[0mappend\u001b[0m\u001b[0;34m(\u001b[0m\u001b[0mP_and_L_current_year_dataframe\u001b[0m\u001b[0;34m[\u001b[0m\u001b[0mcounter\u001b[0m\u001b[0;34m]\u001b[0m\u001b[0;34m)\u001b[0m\u001b[0;34m\u001b[0m\u001b[0;34m\u001b[0m\u001b[0m\n\u001b[1;32m     28\u001b[0m                     \u001b[0mprior_year_array\u001b[0m\u001b[0;34m.\u001b[0m\u001b[0mappend\u001b[0m\u001b[0;34m(\u001b[0m\u001b[0mP_and_L_prior_year_dataframe\u001b[0m\u001b[0;34m[\u001b[0m\u001b[0mcounter\u001b[0m\u001b[0;34m]\u001b[0m\u001b[0;34m)\u001b[0m\u001b[0;34m\u001b[0m\u001b[0;34m\u001b[0m\u001b[0m\n\u001b[0;32m---> 29\u001b[0;31m                     \u001b[0mP_and_L_name_array\u001b[0m\u001b[0;34m.\u001b[0m\u001b[0mappend\u001b[0m\u001b[0;34m[\u001b[0m\u001b[0;34m\"Turnover\"\u001b[0m\u001b[0;34m]\u001b[0m\u001b[0;34m\u001b[0m\u001b[0;34m\u001b[0m\u001b[0m\n\u001b[0m\u001b[1;32m     30\u001b[0m \u001b[0;34m\u001b[0m\u001b[0m\n\u001b[1;32m     31\u001b[0m                 \u001b[0;32mif\u001b[0m \u001b[0many\u001b[0m\u001b[0;34m(\u001b[0m\u001b[0mx\u001b[0m \u001b[0;32min\u001b[0m \u001b[0mP_and_L_name\u001b[0m\u001b[0;34m.\u001b[0m\u001b[0mlower\u001b[0m\u001b[0;34m(\u001b[0m\u001b[0;34m)\u001b[0m \u001b[0;32mfor\u001b[0m \u001b[0mx\u001b[0m \u001b[0;32min\u001b[0m \u001b[0;34m[\u001b[0m\u001b[0;34m\"operating profit\"\u001b[0m\u001b[0;34m]\u001b[0m\u001b[0;34m)\u001b[0m\u001b[0;34m:\u001b[0m\u001b[0;34m\u001b[0m\u001b[0;34m\u001b[0m\u001b[0m\n",
      "\u001b[0;31mTypeError\u001b[0m: 'builtin_function_or_method' object is not subscriptable"
     ]
    }
   ],
   "source": [
    "# Get Profit and Loss\n",
    "\n",
    "\n",
    "def get_P_and_L_lines(input_P_and_L_dataframe, year):\n",
    "    \n",
    "    current_year_array = []\n",
    "    prior_year_array = []\n",
    "    P_and_L_name_array = []\n",
    "\n",
    "    P_and_L_dict_all = {}\n",
    "    \n",
    "    # Need to generalise this function - currently specific for unilever\n",
    "    P_and_L_names_dataframe = input_P_and_L_dataframe[0][0]\n",
    "    P_and_L_current_year_dataframe = input_P_and_L_dataframe[0][2]\n",
    "    P_and_L_prior_year_dataframe = input_P_and_L_dataframe[0][3]\n",
    "        \n",
    "    for counter, P_and_L_name in enumerate(P_and_L_names_dataframe):\n",
    "\n",
    "        try:\n",
    "            d = math.isnan(P_and_L_name)\n",
    "        except:\n",
    "\n",
    "            if type(P_and_L_name)== str:\n",
    "                \n",
    "                if any(x in P_and_L_name.lower() for x in [\"turnover\", \"revenue\"]):\n",
    "                    \n",
    "                    P_and_L_name_array.append(P_and_L_current_year_dataframe[counter])\n",
    "                    prior_year_array.append(P_and_L_prior_year_dataframe[counter])\n",
    "                    P_and_L_name_array.append[\"Turnover\"]\n",
    "\n",
    "                if any(x in P_and_L_name.lower() for x in [\"operating profit\"]):\n",
    "                    \n",
    "                    P_and_L_name_array.append(P_and_L_current_year_dataframe[counter])\n",
    "                    prior_year_array.append(P_and_L_prior_year_dataframe[counter])\n",
    "                    P_and_L_name_array.append[\"Operating Profit\"]\n",
    "\n",
    "                if any(x in P_and_L_name.lower() for x in [\"finance costs\"]):\n",
    "\n",
    "                    P_and_L_name_array.append(P_and_L_current_year_dataframe[counter])\n",
    "                    prior_year_array.append(P_and_L_prior_year_dataframe[counter])\n",
    "                    P_and_L_name_array.append[\"Finance Costs\"]\n",
    "\n",
    "                if any(x in P_and_L_name.lower() for x in [\"profit before taxation\", \"profit before tax\"]):\n",
    "                    \n",
    "                    P_and_L_name_array.append(P_and_L_current_year_dataframe[counter])\n",
    "                    prior_year_array.append(P_and_L_prior_year_dataframe[counter])\n",
    "                    P_and_L_name_array.append[\"Profit or Loss Before Tax\"]\n",
    "\n",
    "                if any(x in P_and_L_name.lower() for x in [\"net profit\"]):\n",
    "                    \n",
    "                    P_and_L_name_array.append(P_and_L_current_year_dataframe[counter])\n",
    "                    prior_year_array.append(P_and_L_prior_year_dataframe[counter])\n",
    "                    P_and_L_name_array.append[\"Net Profit or Loss\"]\n",
    "        \n",
    "    P_and_L_dict_all[year[\"current\"]] = current_year_array\n",
    "    P_and_L_dict_all[year[\"prior\"]] = prior_year_array\n",
    "    \n",
    "    return accounts_data_dict\n",
    "\n",
    "\n",
    "accounts_data_dict = get_P_and_L_lines(df, year)\n",
    "print(accounts_data_dict)\n"
   ]
  },
  {
   "cell_type": "code",
   "execution_count": 11,
   "metadata": {},
   "outputs": [
    {
     "name": "stdout",
     "output_type": "stream",
     "text": [
      "                             2019    2018\n",
      "Turnover                   51,980  50,982\n",
      "Operating Profit            8,708  12,639\n",
      "Finance Costs               (821)   (718)\n",
      "Net Profit or Loss          6,026   9,788\n",
      "Profit or Loss Before Tax   8,289  12,360\n"
     ]
    }
   ],
   "source": [
    "cleaned_df = pd.DataFrame(data=accounts_data_dict)\n",
    "print(cleaned_df)"
   ]
  },
  {
   "cell_type": "code",
   "execution_count": 8,
   "metadata": {},
   "outputs": [
    {
     "name": "stdout",
     "output_type": "stream",
     "text": [
      "Empty DataFrame\n",
      "Columns: [LONUNLV]\n",
      "Index: []\n"
     ]
    }
   ],
   "source": [
    "\n",
    "\n",
    "accounts_data_dict = {\"LONUNLV\":accounts_data_dict}\n",
    "\n",
    "# Save data to CSV \n",
    "cleaned_df = pd.DataFrame(data=accounts_data_dict)\n",
    "print(cleaned_df)\n",
    "cleaned_df.to_csv(r'%s_financials.csv' %company_ticker, index = True)\n",
    "\n",
    "# # Save data to CSV \n",
    "# cleaned_df = pd.DataFrame(data=accounts_data_dict)\n",
    "# print(cleaned_df)\n",
    "# cleaned_df.to_csv(r'%s_financials.csv' %company_ticker, index = True)\n"
   ]
  },
  {
   "cell_type": "code",
   "execution_count": 29,
   "metadata": {
    "scrolled": true
   },
   "outputs": [
    {
     "name": "stdout",
     "output_type": "stream",
     "text": [
      "prior year already included\n",
      "                  Unnamed: 0    2018    2017    2019\n",
      "0                   Turnover  50,982  53,715  51,980\n",
      "1           Operating Profit  12,535   8,857   8,708\n",
      "2              Finance Costs   (591)   (556)   (821)\n",
      "3         Net Profit or Loss   9,808   6,486   6,026\n",
      "4  Profit or Loss Before Tax  12,383   8,153   8,289\n"
     ]
    }
   ],
   "source": [
    "# Load CSV\n",
    "\n",
    "loaded_financial_data = pd.read_csv('%s_financials.csv' %company_ticker)\n",
    "\n",
    "# check if current year already included\n",
    "if str(year['current']) in loaded_financial_data.columns: \n",
    "    print(\"current year already included\")\n",
    "else:\n",
    "    # not in csv - therefore add\n",
    "    updated_financial_data = loaded_financial_data\n",
    "    updated_financial_data[year['current']]=cleaned_df[year['current']].values\n",
    "    updated_financial_data.to_csv(r'%s_financials.csv' %company_ticker, index = True)\n",
    "\n",
    "# check if current prior already included\n",
    "if str(year['prior']) in loaded_financial_data.columns:\n",
    "    print(\"prior year already included\")\n",
    "else:\n",
    "    # not in csv - therefore add \n",
    "    updated_financial_data = loaded_financial_data\n",
    "    updated_financial_data[year['prior']]=cleaned_df[year['prior']].values\n",
    "    updated_financial_data.to_csv(r'%s_financials.csv' %company_ticker, index = True)\n",
    "    \n",
    "print(updated_financial_data)\n",
    "    "
   ]
  },
  {
   "cell_type": "code",
   "execution_count": 7,
   "metadata": {},
   "outputs": [
    {
     "name": "stdout",
     "output_type": "stream",
     "text": [
      "   Unnamed: 0                                            LONUNLV\n",
      "0        2018  {'Turnover': '50,982', 'Operating Profit': '12...\n",
      "1        2019  {'Turnover': '51,980', 'Operating Profit': '8,...\n"
     ]
    }
   ],
   "source": [
    "# save auditor\n",
    "loaded_financial_data = pd.read_csv('%s_financials.csv' %company_ticker)\n",
    "print(loaded_financial_data)"
   ]
  },
  {
   "cell_type": "code",
   "execution_count": 23,
   "metadata": {},
   "outputs": [
    {
     "ename": "TypeError",
     "evalue": "cannot concatenate object of type '<class 'list'>'; only Series and DataFrame objs are valid",
     "output_type": "error",
     "traceback": [
      "\u001b[0;31m---------------------------------------------------------------------------\u001b[0m",
      "\u001b[0;31mTypeError\u001b[0m                                 Traceback (most recent call last)",
      "\u001b[0;32m<ipython-input-23-78d5581db3fd>\u001b[0m in \u001b[0;36m<module>\u001b[0;34m\u001b[0m\n\u001b[1;32m      1\u001b[0m \u001b[0;34m\u001b[0m\u001b[0m\n\u001b[1;32m      2\u001b[0m \u001b[0;34m\u001b[0m\u001b[0m\n\u001b[0;32m----> 3\u001b[0;31m \u001b[0mdf3\u001b[0m \u001b[0;34m=\u001b[0m \u001b[0mpd\u001b[0m\u001b[0;34m.\u001b[0m\u001b[0mconcat\u001b[0m\u001b[0;34m(\u001b[0m\u001b[0;34m[\u001b[0m\u001b[0mloaded_financial_data\u001b[0m\u001b[0;34m,\u001b[0m \u001b[0;34m[\u001b[0m\u001b[0;36m3\u001b[0m\u001b[0;34m,\u001b[0m\u001b[0;36m3\u001b[0m\u001b[0;34m,\u001b[0m\u001b[0;36m4\u001b[0m\u001b[0;34m]\u001b[0m\u001b[0;34m]\u001b[0m\u001b[0;34m,\u001b[0m \u001b[0maxis\u001b[0m\u001b[0;34m=\u001b[0m\u001b[0;36m0\u001b[0m\u001b[0;34m)\u001b[0m\u001b[0;34m\u001b[0m\u001b[0;34m\u001b[0m\u001b[0m\n\u001b[0m\u001b[1;32m      4\u001b[0m \u001b[0mprint\u001b[0m\u001b[0;34m(\u001b[0m\u001b[0mdf3\u001b[0m\u001b[0;34m)\u001b[0m\u001b[0;34m\u001b[0m\u001b[0;34m\u001b[0m\u001b[0m\n\u001b[1;32m      5\u001b[0m \u001b[0;34m\u001b[0m\u001b[0m\n",
      "\u001b[0;32m/anaconda3/lib/python3.7/site-packages/pandas/core/reshape/concat.py\u001b[0m in \u001b[0;36mconcat\u001b[0;34m(objs, axis, join, ignore_index, keys, levels, names, verify_integrity, sort, copy)\u001b[0m\n\u001b[1;32m    279\u001b[0m         \u001b[0mverify_integrity\u001b[0m\u001b[0;34m=\u001b[0m\u001b[0mverify_integrity\u001b[0m\u001b[0;34m,\u001b[0m\u001b[0;34m\u001b[0m\u001b[0;34m\u001b[0m\u001b[0m\n\u001b[1;32m    280\u001b[0m         \u001b[0mcopy\u001b[0m\u001b[0;34m=\u001b[0m\u001b[0mcopy\u001b[0m\u001b[0;34m,\u001b[0m\u001b[0;34m\u001b[0m\u001b[0;34m\u001b[0m\u001b[0m\n\u001b[0;32m--> 281\u001b[0;31m         \u001b[0msort\u001b[0m\u001b[0;34m=\u001b[0m\u001b[0msort\u001b[0m\u001b[0;34m,\u001b[0m\u001b[0;34m\u001b[0m\u001b[0;34m\u001b[0m\u001b[0m\n\u001b[0m\u001b[1;32m    282\u001b[0m     )\n\u001b[1;32m    283\u001b[0m \u001b[0;34m\u001b[0m\u001b[0m\n",
      "\u001b[0;32m/anaconda3/lib/python3.7/site-packages/pandas/core/reshape/concat.py\u001b[0m in \u001b[0;36m__init__\u001b[0;34m(self, objs, axis, join, keys, levels, names, ignore_index, verify_integrity, copy, sort)\u001b[0m\n\u001b[1;32m    355\u001b[0m                     \u001b[0;34m\"only Series and DataFrame objs are valid\"\u001b[0m\u001b[0;34m.\u001b[0m\u001b[0mformat\u001b[0m\u001b[0;34m(\u001b[0m\u001b[0mtyp\u001b[0m\u001b[0;34m=\u001b[0m\u001b[0mtype\u001b[0m\u001b[0;34m(\u001b[0m\u001b[0mobj\u001b[0m\u001b[0;34m)\u001b[0m\u001b[0;34m)\u001b[0m\u001b[0;34m\u001b[0m\u001b[0;34m\u001b[0m\u001b[0m\n\u001b[1;32m    356\u001b[0m                 )\n\u001b[0;32m--> 357\u001b[0;31m                 \u001b[0;32mraise\u001b[0m \u001b[0mTypeError\u001b[0m\u001b[0;34m(\u001b[0m\u001b[0mmsg\u001b[0m\u001b[0;34m)\u001b[0m\u001b[0;34m\u001b[0m\u001b[0;34m\u001b[0m\u001b[0m\n\u001b[0m\u001b[1;32m    358\u001b[0m \u001b[0;34m\u001b[0m\u001b[0m\n\u001b[1;32m    359\u001b[0m             \u001b[0;31m# consolidate\u001b[0m\u001b[0;34m\u001b[0m\u001b[0;34m\u001b[0m\u001b[0;34m\u001b[0m\u001b[0m\n",
      "\u001b[0;31mTypeError\u001b[0m: cannot concatenate object of type '<class 'list'>'; only Series and DataFrame objs are valid"
     ]
    }
   ],
   "source": [
    "\n",
    "\n",
    "df3 = pd.concat([loaded_financial_data, [3,3,4]], axis=0)\n",
    "print(df3)\n",
    "\n"
   ]
  },
  {
   "cell_type": "markdown",
   "metadata": {},
   "source": []
  }
 ],
 "metadata": {
  "kernelspec": {
   "display_name": "Python 3",
   "language": "python",
   "name": "python3"
  },
  "language_info": {
   "codemirror_mode": {
    "name": "ipython",
    "version": 3
   },
   "file_extension": ".py",
   "mimetype": "text/x-python",
   "name": "python",
   "nbconvert_exporter": "python",
   "pygments_lexer": "ipython3",
   "version": "3.8.3"
  }
 },
 "nbformat": 4,
 "nbformat_minor": 2
}
