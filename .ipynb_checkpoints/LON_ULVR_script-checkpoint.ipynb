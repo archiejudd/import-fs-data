{
 "cells": [
  {
   "cell_type": "code",
   "execution_count": 171,
   "metadata": {},
   "outputs": [],
   "source": [
    "import tabula\n",
    "import pandas as pd\n",
    "import numpy as np\n",
    "import math\n",
    "import import_ipynb\n",
    "import financial_statement_functions\n",
    "import pandas as pd \n",
    "\n",
    "\n",
    "# Inputs \n",
    "\n",
    "company_name = \"unilever\"\n",
    "company_ticker = \"LON_ULVR\"\n",
    "year = {\"current\":2018, \"prior\":2017}\n",
    "\n",
    "accounts_data_dict = {}\n",
    "account_type_array = []\n"
   ]
  },
  {
   "cell_type": "code",
   "execution_count": 172,
   "metadata": {},
   "outputs": [
    {
     "name": "stderr",
     "output_type": "stream",
     "text": [
      "Got stderr: Aug 08, 2020 10:36:30 PM org.apache.pdfbox.rendering.PDFRenderer suggestKCMS\n",
      "INFO: Your current java version is: 1.8.0_101\n",
      "Aug 08, 2020 10:36:30 PM org.apache.pdfbox.rendering.PDFRenderer suggestKCMS\n",
      "INFO: To get higher rendering speed on old java 1.8 or 9 versions,\n",
      "Aug 08, 2020 10:36:30 PM org.apache.pdfbox.rendering.PDFRenderer suggestKCMS\n",
      "INFO:   update to the latest 1.8 or 9 version (>= 1.8.0_191 or >= 9.0.4),\n",
      "Aug 08, 2020 10:36:30 PM org.apache.pdfbox.rendering.PDFRenderer suggestKCMS\n",
      "INFO:   or\n",
      "Aug 08, 2020 10:36:30 PM org.apache.pdfbox.rendering.PDFRenderer suggestKCMS\n",
      "INFO:   use the option -Dsun.java2d.cmm=sun.java2d.cmm.kcms.KcmsServiceProvider\n",
      "Aug 08, 2020 10:36:30 PM org.apache.pdfbox.rendering.PDFRenderer suggestKCMS\n",
      "INFO:   or call System.setProperty(\"sun.java2d.cmm\", \"sun.java2d.cmm.kcms.KcmsServiceProvider\")\n",
      "\n"
     ]
    },
    {
     "name": "stdout",
     "output_type": "stream",
     "text": [
      "\n",
      "                                                 0      1          2  \\\n",
      "0                                              NaN    NaN  € million   \n",
      "1                                              NaN  Notes       2018   \n",
      "2                                         Turnover      2     50,982   \n",
      "3                                 Operating profit      2     12,535   \n",
      "4  After (charging)/crediting non-underlying items      3      3,176   \n",
      "\n",
      "           3          4  \n",
      "0  € million  € million  \n",
      "1       2017       2016  \n",
      "2     53,715     52,713  \n",
      "3      8,857      7,801  \n",
      "4      (543)      (823)  \n"
     ]
    }
   ],
   "source": [
    "\n",
    "# to automate page finding - currently pg78 for 2018 and pg90 for 2019 \n",
    "# use header: None as otherwise this pulls the first row as the column headers\n",
    "df = tabula.read_pdf(\"%s_%s.pdf\"%(company_ticker, year['current']),pandas_options={'header': None}, pages=78)\n",
    "print(\"\")\n",
    "print(df[0].head(5))"
   ]
  },
  {
   "cell_type": "code",
   "execution_count": 173,
   "metadata": {},
   "outputs": [
    {
     "name": "stdout",
     "output_type": "stream",
     "text": [
      "<class 'pandas.core.frame.DataFrame'>\n",
      "RangeIndex: 24 entries, 0 to 23\n",
      "Data columns (total 5 columns):\n",
      " #   Column  Non-Null Count  Dtype \n",
      "---  ------  --------------  ----- \n",
      " 0   0       22 non-null     object\n",
      " 1   1       12 non-null     object\n",
      " 2   2       22 non-null     object\n",
      " 3   3       22 non-null     object\n",
      " 4   4       22 non-null     object\n",
      "dtypes: object(5)\n",
      "memory usage: 1.1+ KB\n",
      "None\n"
     ]
    }
   ],
   "source": [
    "# Profit and Loss Finder\n",
    "print(df[0].info())\n"
   ]
  },
  {
   "cell_type": "code",
   "execution_count": 174,
   "metadata": {},
   "outputs": [
    {
     "name": "stdout",
     "output_type": "stream",
     "text": [
      "{2018: {'Turnover': '50,982', 'Operating Profit': '12,535', 'Finance Costs': '(591)', 'Net Profit or Loss': '9,808', 'Profit or Loss Before Tax': '12,383'}, 2017: {'Turnover': '53,715', 'Operating Profit': '8,857', 'Finance Costs': '(556)', 'Net Profit or Loss': '6,486', 'Profit or Loss Before Tax': '8,153'}}\n"
     ]
    }
   ],
   "source": [
    "# Get Profit and Loss\n",
    "\n",
    "accounts_data_dict = financial_statement_functions.get_P_and_L_lines(df, year)\n",
    "print(accounts_data_dict)\n"
   ]
  },
  {
   "cell_type": "code",
   "execution_count": 175,
   "metadata": {},
   "outputs": [
    {
     "name": "stdout",
     "output_type": "stream",
     "text": [
      "                             2018    2017\n",
      "Turnover                   50,982  53,715\n",
      "Operating Profit           12,535   8,857\n",
      "Finance Costs               (591)   (556)\n",
      "Net Profit or Loss          9,808   6,486\n",
      "Profit or Loss Before Tax  12,383   8,153\n"
     ]
    }
   ],
   "source": [
    "cleaned_df = pd.DataFrame(data=accounts_data_dict)\n",
    "print(cleaned_df)"
   ]
  },
  {
   "cell_type": "code",
   "execution_count": 176,
   "metadata": {},
   "outputs": [],
   "source": [
    "\n",
    "# # Save data to CSV \n",
    "# cleaned_df = pd.DataFrame(data=accounts_data_dict)\n",
    "# print(cleaned_df)\n",
    "# cleaned_df.to_csv(r'%s_financials.csv' %company_ticker, index = True)\n"
   ]
  },
  {
   "cell_type": "code",
   "execution_count": 177,
   "metadata": {},
   "outputs": [
    {
     "name": "stdout",
     "output_type": "stream",
     "text": [
      "Turnover                     53,715\n",
      "Operating Profit              8,857\n",
      "Finance Costs                 (556)\n",
      "Net Profit or Loss            6,486\n",
      "Profit or Loss Before Tax     8,153\n",
      "Name: 2017, dtype: object\n"
     ]
    }
   ],
   "source": [
    "print(cleaned_df[year['prior']])"
   ]
  },
  {
   "cell_type": "code",
   "execution_count": 178,
   "metadata": {},
   "outputs": [
    {
     "name": "stdout",
     "output_type": "stream",
     "text": [
      "Turnover                     53,715\n",
      "Operating Profit              8,857\n",
      "Finance Costs                 (556)\n",
      "Net Profit or Loss            6,486\n",
      "Profit or Loss Before Tax     8,153\n",
      "Name: 2017, dtype: object\n"
     ]
    }
   ],
   "source": [
    "print(cleaned_df[year['prior']])"
   ]
  },
  {
   "cell_type": "code",
   "execution_count": 180,
   "metadata": {},
   "outputs": [
    {
     "name": "stdout",
     "output_type": "stream",
     "text": [
      "Index(['Unnamed: 0', '2019', '2018'], dtype='object')\n",
      "2018\n",
      "current year already included\n",
      "prior year not inlcuded \n",
      "Turnover                     53,715\n",
      "Operating Profit              8,857\n",
      "Finance Costs                 (556)\n",
      "Net Profit or Loss            6,486\n",
      "Profit or Loss Before Tax     8,153\n",
      "Name: 2017, dtype: object\n"
     ]
    }
   ],
   "source": [
    "\n",
    "\n",
    "# Load CSV\n",
    "\n",
    "loaded_financial_data = pd.read_csv('%s_financials.csv' %company_ticker)\n",
    "\n",
    "\n",
    "print(loaded_financial_data.columns)\n",
    "print(year['current'])\n",
    "\n",
    "if str(year['current']) in loaded_financial_data.columns: \n",
    "    print(\"current year already included\")\n",
    "else:\n",
    "    # not in csv - therefore add \n",
    "    print(cleaned_df[year['current']])\n",
    "    updated_financial_data = loaded_financial_data\n",
    "    updated_financial_data[str(year['current'])]=cleaned_df[year['current']]\n",
    "    print(\"current year not inlcuded \")\n",
    "    print(updated_financial_data)\n",
    "    updated_financial_data.to_csv(r'%s_financials.csv' %company_ticker, index = True)\n",
    "    \n",
    "if str(year['prior']) in loaded_financial_data.columns: \n",
    "    print(\"prior year already included\")\n",
    "else:\n",
    "    print(\"prior year not inlcuded \")\n",
    "    updated_financial_data = loaded_financial_data\n",
    "    print(cleaned_df[year['prior']])\n",
    "    # not in csv - therefore add \n",
    "    updated_financial_data[str(year['prior'])]=cleaned_df[year['prior']]\n",
    "    updated_financial_data.to_csv(r'%s_financials.csv' %company_ticker, index = True)\n",
    "    "
   ]
  },
  {
   "cell_type": "code",
   "execution_count": 187,
   "metadata": {},
   "outputs": [
    {
     "name": "stdout",
     "output_type": "stream",
     "text": [
      "                  Unnamed: 0    2019    2018 2017\n",
      "0                   Turnover  51,980  50,982  NaN\n",
      "1           Operating Profit   8,708  12,639  NaN\n",
      "2              Finance Costs   (821)   (718)  NaN\n",
      "3         Net Profit or Loss   6,026   9,788  NaN\n",
      "4  Profit or Loss Before Tax   8,289  12,360  NaN\n",
      "                             2018    2017\n",
      "Turnover                   50,982  53,715\n",
      "Operating Profit           12,535   8,857\n",
      "Finance Costs               (591)   (556)\n",
      "Net Profit or Loss          9,808   6,486\n",
      "Profit or Loss Before Tax  12,383   8,153\n",
      "                  Unnamed: 0    2019    2018 2017\n",
      "0                   Turnover  51,980  50,982  NaN\n",
      "1           Operating Profit   8,708  12,639  NaN\n",
      "2              Finance Costs   (821)   (718)  NaN\n",
      "3         Net Profit or Loss   6,026   9,788  NaN\n",
      "4  Profit or Loss Before Tax   8,289  12,360  NaN\n"
     ]
    }
   ],
   "source": [
    "\n",
    "print(updated_financial_data)\n",
    "print(cleaned_df)\n",
    "updated_financial_data['2017']=cleaned_df\n",
    "print(updated_financial_data)"
   ]
  },
  {
   "cell_type": "code",
   "execution_count": 85,
   "metadata": {},
   "outputs": [
    {
     "name": "stdout",
     "output_type": "stream",
     "text": [
      "int not possible\n",
      "got here\n",
      "2019\n",
      "arrived\n",
      "2019\n",
      "2018\n",
      "int not possible\n",
      "got here\n",
      "2018\n",
      "not applying\n",
      "                  Unnamed: 0    2019    2018\n",
      "0                   Turnover  51,980  50,982\n",
      "1           Operating Profit   8,708  12,639\n",
      "2              Finance Costs   (821)   (718)\n",
      "3         Net Profit or Loss   6,026   9,788\n",
      "4  Profit or Loss Before Tax   8,289  12,360\n"
     ]
    }
   ],
   "source": [
    "# Load CSV\n",
    "\n",
    "loaded_financial_data = pd.read_csv('%s_financials.csv' %company_ticker)\n",
    "\n",
    "\n",
    "if '2017' in loaded_financial_data.columns:\n",
    "    \n",
    "    print(\"here\")\n",
    "\n",
    "else:\n",
    "    print(\"not in\")\n",
    "\n",
    "\n",
    "for year_i in loaded_financial_data.columns:\n",
    "    try:\n",
    "        year_i_int = int(year_i)\n",
    "        print(\"got here\")\n",
    "        print(year_i_int)\n",
    "        if year_i_int == year['current'] or year_i_int == year['prior']:\n",
    "            print(\"not applying\")\n",
    "        else:     \n",
    "            print(\"arrived\")\n",
    "            print(year_i)\n",
    "            print(year['current'])\n",
    "            loaded_financial_data[year_i]=cleaned_df[year_i]\n",
    "            loaded_financial_data.to_csv(r'%s_financials.csv' %company_ticker, index = True)\n",
    "    except:\n",
    "        print(\"int not possible\")\n",
    "    \n",
    "\n",
    "print(loaded_financial_data)"
   ]
  },
  {
   "cell_type": "code",
   "execution_count": 16,
   "metadata": {},
   "outputs": [
    {
     "name": "stdout",
     "output_type": "stream",
     "text": [
      "                  Unnamed: 0    2018  2017\n",
      "0                   Turnover  50,982     3\n",
      "1           Operating Profit  12,535     3\n",
      "2              Finance Costs   (591)     4\n",
      "3         Net Profit or Loss   9,808     5\n",
      "4  Profit or Loss Before Tax  12,383     5\n"
     ]
    }
   ],
   "source": [
    "\n",
    "\n",
    "for \n",
    "\n",
    "new = pd.DataFrame(data)\n",
    "new['2017']=[3,3,4,5,5]\n",
    "print(new)\n",
    "new.to_csv(r'%s_financials.csv' %company_ticker, index = True)\n",
    "#data.to_csv(r'%s_financials.csv' %company_Name, index = False)"
   ]
  },
  {
   "cell_type": "markdown",
   "metadata": {},
   "source": [
    "# "
   ]
  }
 ],
 "metadata": {
  "kernelspec": {
   "display_name": "Python 3",
   "language": "python",
   "name": "python3"
  },
  "language_info": {
   "codemirror_mode": {
    "name": "ipython",
    "version": 3
   },
   "file_extension": ".py",
   "mimetype": "text/x-python",
   "name": "python",
   "nbconvert_exporter": "python",
   "pygments_lexer": "ipython3",
   "version": "3.7.3"
  }
 },
 "nbformat": 4,
 "nbformat_minor": 2
}
