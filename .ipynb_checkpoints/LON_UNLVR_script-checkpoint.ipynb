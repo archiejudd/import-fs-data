{
 "cells": [
  {
   "cell_type": "code",
   "execution_count": 1,
   "metadata": {},
   "outputs": [
    {
     "name": "stdout",
     "output_type": "stream",
     "text": [
      "importing Jupyter notebook from financial_statement_functions.ipynb\n"
     ]
    }
   ],
   "source": [
    "import tabula\n",
    "import pandas as pd\n",
    "import numpy as np\n",
    "import math\n",
    "import import_ipynb\n",
    "import financial_statement_functions\n",
    "import pandas as pd \n",
    "\n",
    "\n",
    "# Inputs \n",
    "\n",
    "company_name = \"unilever\"\n",
    "company_ticker = \"LON_ULVR\"\n",
    "year = {\"current\":2019, \"prior\":2018}\n",
    "\n",
    "accounts_data_dict = {}\n",
    "account_type_array = []\n"
   ]
  },
  {
   "cell_type": "code",
   "execution_count": 2,
   "metadata": {},
   "outputs": [
    {
     "ename": "FileNotFoundError",
     "evalue": "[Errno 2] No such file or directory: 'LON_ULVR_2019.pdf'",
     "output_type": "error",
     "traceback": [
      "\u001b[0;31m---------------------------------------------------------------------------\u001b[0m",
      "\u001b[0;31mFileNotFoundError\u001b[0m                         Traceback (most recent call last)",
      "\u001b[0;32m<ipython-input-2-a843489f7291>\u001b[0m in \u001b[0;36m<module>\u001b[0;34m\u001b[0m\n\u001b[1;32m      1\u001b[0m \u001b[0;34m\u001b[0m\u001b[0m\n\u001b[1;32m      2\u001b[0m \u001b[0;31m# use header: None as otherwise this pulls the first row as the column headers\u001b[0m\u001b[0;34m\u001b[0m\u001b[0;34m\u001b[0m\u001b[0;34m\u001b[0m\u001b[0m\n\u001b[0;32m----> 3\u001b[0;31m \u001b[0mdf\u001b[0m \u001b[0;34m=\u001b[0m \u001b[0mtabula\u001b[0m\u001b[0;34m.\u001b[0m\u001b[0mread_pdf\u001b[0m\u001b[0;34m(\u001b[0m\u001b[0;34m\"%s_2019.pdf\"\u001b[0m\u001b[0;34m%\u001b[0m\u001b[0mcompany_ticker\u001b[0m\u001b[0;34m,\u001b[0m\u001b[0mpandas_options\u001b[0m\u001b[0;34m=\u001b[0m\u001b[0;34m{\u001b[0m\u001b[0;34m'header'\u001b[0m\u001b[0;34m:\u001b[0m \u001b[0;32mNone\u001b[0m\u001b[0;34m}\u001b[0m\u001b[0;34m,\u001b[0m \u001b[0mpages\u001b[0m\u001b[0;34m=\u001b[0m\u001b[0;36m90\u001b[0m\u001b[0;34m)\u001b[0m\u001b[0;34m\u001b[0m\u001b[0;34m\u001b[0m\u001b[0m\n\u001b[0m\u001b[1;32m      4\u001b[0m \u001b[0mprint\u001b[0m\u001b[0;34m(\u001b[0m\u001b[0;34m\"\"\u001b[0m\u001b[0;34m)\u001b[0m\u001b[0;34m\u001b[0m\u001b[0;34m\u001b[0m\u001b[0m\n\u001b[1;32m      5\u001b[0m \u001b[0mprint\u001b[0m\u001b[0;34m(\u001b[0m\u001b[0mdf\u001b[0m\u001b[0;34m[\u001b[0m\u001b[0;36m0\u001b[0m\u001b[0;34m]\u001b[0m\u001b[0;34m.\u001b[0m\u001b[0mhead\u001b[0m\u001b[0;34m(\u001b[0m\u001b[0;36m5\u001b[0m\u001b[0;34m)\u001b[0m\u001b[0;34m)\u001b[0m\u001b[0;34m\u001b[0m\u001b[0;34m\u001b[0m\u001b[0m\n",
      "\u001b[0;32m/anaconda3/lib/python3.7/site-packages/tabula/io.py\u001b[0m in \u001b[0;36mread_pdf\u001b[0;34m(input_path, output_format, encoding, java_options, pandas_options, multiple_tables, user_agent, **kwargs)\u001b[0m\n\u001b[1;32m    312\u001b[0m \u001b[0;34m\u001b[0m\u001b[0m\n\u001b[1;32m    313\u001b[0m     \u001b[0;32mif\u001b[0m \u001b[0;32mnot\u001b[0m \u001b[0mos\u001b[0m\u001b[0;34m.\u001b[0m\u001b[0mpath\u001b[0m\u001b[0;34m.\u001b[0m\u001b[0mexists\u001b[0m\u001b[0;34m(\u001b[0m\u001b[0mpath\u001b[0m\u001b[0;34m)\u001b[0m\u001b[0;34m:\u001b[0m\u001b[0;34m\u001b[0m\u001b[0;34m\u001b[0m\u001b[0m\n\u001b[0;32m--> 314\u001b[0;31m         \u001b[0;32mraise\u001b[0m \u001b[0mFileNotFoundError\u001b[0m\u001b[0;34m(\u001b[0m\u001b[0merrno\u001b[0m\u001b[0;34m.\u001b[0m\u001b[0mENOENT\u001b[0m\u001b[0;34m,\u001b[0m \u001b[0mos\u001b[0m\u001b[0;34m.\u001b[0m\u001b[0mstrerror\u001b[0m\u001b[0;34m(\u001b[0m\u001b[0merrno\u001b[0m\u001b[0;34m.\u001b[0m\u001b[0mENOENT\u001b[0m\u001b[0;34m)\u001b[0m\u001b[0;34m,\u001b[0m \u001b[0mpath\u001b[0m\u001b[0;34m)\u001b[0m\u001b[0;34m\u001b[0m\u001b[0;34m\u001b[0m\u001b[0m\n\u001b[0m\u001b[1;32m    315\u001b[0m \u001b[0;34m\u001b[0m\u001b[0m\n\u001b[1;32m    316\u001b[0m     \u001b[0;32mif\u001b[0m \u001b[0mos\u001b[0m\u001b[0;34m.\u001b[0m\u001b[0mpath\u001b[0m\u001b[0;34m.\u001b[0m\u001b[0mgetsize\u001b[0m\u001b[0;34m(\u001b[0m\u001b[0mpath\u001b[0m\u001b[0;34m)\u001b[0m \u001b[0;34m==\u001b[0m \u001b[0;36m0\u001b[0m\u001b[0;34m:\u001b[0m\u001b[0;34m\u001b[0m\u001b[0;34m\u001b[0m\u001b[0m\n",
      "\u001b[0;31mFileNotFoundError\u001b[0m: [Errno 2] No such file or directory: 'LON_ULVR_2019.pdf'"
     ]
    }
   ],
   "source": [
    "\n",
    "# use header: None as otherwise this pulls the first row as the column headers\n",
    "df = tabula.read_pdf(\"%s_2019.pdf\"%company_ticker,pandas_options={'header': None}, pages=90)\n",
    "print(\"\")\n",
    "print(df[0].head(5))"
   ]
  },
  {
   "cell_type": "code",
   "execution_count": 15,
   "metadata": {},
   "outputs": [
    {
     "name": "stdout",
     "output_type": "stream",
     "text": [
      "<class 'pandas.core.frame.DataFrame'>\n",
      "RangeIndex: 22 entries, 0 to 21\n",
      "Data columns (total 5 columns):\n",
      " #   Column  Non-Null Count  Dtype \n",
      "---  ------  --------------  ----- \n",
      " 0   0       22 non-null     object\n",
      " 1   1       11 non-null     object\n",
      " 2   2       20 non-null     object\n",
      " 3   3       20 non-null     object\n",
      " 4   4       20 non-null     object\n",
      "dtypes: object(5)\n",
      "memory usage: 1008.0+ bytes\n",
      "None\n"
     ]
    }
   ],
   "source": [
    "# Profit and Loss Finder\n",
    "print(df[0].info())\n"
   ]
  },
  {
   "cell_type": "code",
   "execution_count": 16,
   "metadata": {},
   "outputs": [
    {
     "name": "stdout",
     "output_type": "stream",
     "text": [
      "{2019: {'Turnover': '51,980', 'Operating Profit': '8,708', 'Finance Costs': '(821)', 'Net Profit or Loss': '6,026', 'Profit or Loss Before Tax': '8,289'}, 2018: {'Turnover': '50,982', 'Operating Profit': '12,639', 'Finance Costs': '(718)', 'Net Profit or Loss': '9,788', 'Profit or Loss Before Tax': '12,360'}}\n"
     ]
    }
   ],
   "source": [
    "# Get Profit and Loss\n",
    "\n",
    "accounts_data_dict = financial_statement_functions.get_P_and_L_lines(df, year)\n",
    "print(accounts_data_dict)\n"
   ]
  },
  {
   "cell_type": "code",
   "execution_count": 17,
   "metadata": {},
   "outputs": [
    {
     "name": "stdout",
     "output_type": "stream",
     "text": [
      "                             2019    2018\n",
      "Turnover                   51,980  50,982\n",
      "Operating Profit            8,708  12,639\n",
      "Finance Costs               (821)   (718)\n",
      "Net Profit or Loss          6,026   9,788\n",
      "Profit or Loss Before Tax   8,289  12,360\n"
     ]
    }
   ],
   "source": [
    "\n",
    "\n",
    "# Check to see \n",
    "\n",
    "\n",
    "# Save data to CSV\n",
    "\n",
    "cleaned_df = pd.DataFrame(data=accounts_data_dict)\n",
    "print(cleaned_df)\n",
    "cleaned_df.to_csv(r'%s_financials.csv' %company_Name, index = False)\n"
   ]
  },
  {
   "cell_type": "code",
   "execution_count": 24,
   "metadata": {},
   "outputs": [
    {
     "name": "stdout",
     "output_type": "stream",
     "text": [
      "0    51,980\n",
      "1     8,708\n",
      "2     (821)\n",
      "3     6,026\n",
      "4     8,289\n",
      "Name: 2019, dtype: object\n",
      "     2019    2018\n",
      "0  51,980  50,982\n",
      "1   8,708  12,639\n",
      "2   (821)   (718)\n",
      "3   6,026   9,788\n",
      "4   8,289  12,360\n"
     ]
    }
   ],
   "source": [
    "# Load CSV\n",
    "\n",
    "data = pd.read_csv('%s_financials.csv' %company_Name)\n",
    "print(data['2019'])\n",
    "print(data)"
   ]
  },
  {
   "cell_type": "code",
   "execution_count": 31,
   "metadata": {},
   "outputs": [
    {
     "name": "stdout",
     "output_type": "stream",
     "text": [
      "     2019    2018  2017\n",
      "0  51,980  50,982     3\n",
      "1   8,708  12,639     3\n",
      "2   (821)   (718)     4\n",
      "3   6,026   9,788     5\n",
      "4   8,289  12,360     5\n"
     ]
    }
   ],
   "source": [
    "\n",
    "new = pd.DataFrame(data)\n",
    "new['2017']=[3,3,4,5,5]\n",
    "print(new)\n",
    "#data.to_csv(r'%s_financials.csv' %company_Name, index = False)"
   ]
  },
  {
   "cell_type": "markdown",
   "metadata": {},
   "source": [
    "# "
   ]
  }
 ],
 "metadata": {
  "kernelspec": {
   "display_name": "Python 3",
   "language": "python",
   "name": "python3"
  },
  "language_info": {
   "codemirror_mode": {
    "name": "ipython",
    "version": 3
   },
   "file_extension": ".py",
   "mimetype": "text/x-python",
   "name": "python",
   "nbconvert_exporter": "python",
   "pygments_lexer": "ipython3",
   "version": "3.7.3"
  }
 },
 "nbformat": 4,
 "nbformat_minor": 2
}
