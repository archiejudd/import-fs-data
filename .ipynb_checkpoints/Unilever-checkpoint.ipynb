{
 "cells": [
  {
   "cell_type": "code",
   "execution_count": 19,
   "metadata": {},
   "outputs": [],
   "source": [
    "import tabula\n",
    "import pandas as pd\n",
    "import numpy as np\n",
    "import math\n",
    "import import_ipynb\n",
    "import financial_statement_functions\n",
    "\n",
    "\n",
    "# Inputs \n",
    "\n",
    "company_Name = \"unilever\"\n",
    "company_Ticker = \"LON:ULVR\"\n",
    "year = {\"current\":2019, \"prior\":2018}\n",
    "\n",
    "accounts_data_dict = {}\n",
    "account_type_array = []\n"
   ]
  },
  {
   "cell_type": "code",
   "execution_count": 20,
   "metadata": {},
   "outputs": [
    {
     "name": "stderr",
     "output_type": "stream",
     "text": [
      "Got stderr: Aug 08, 2020 6:22:14 PM org.apache.pdfbox.rendering.PDFRenderer suggestKCMS\n",
      "INFO: Your current java version is: 1.8.0_101\n",
      "Aug 08, 2020 6:22:14 PM org.apache.pdfbox.rendering.PDFRenderer suggestKCMS\n",
      "INFO: To get higher rendering speed on old java 1.8 or 9 versions,\n",
      "Aug 08, 2020 6:22:14 PM org.apache.pdfbox.rendering.PDFRenderer suggestKCMS\n",
      "INFO:   update to the latest 1.8 or 9 version (>= 1.8.0_191 or >= 9.0.4),\n",
      "Aug 08, 2020 6:22:14 PM org.apache.pdfbox.rendering.PDFRenderer suggestKCMS\n",
      "INFO:   or\n",
      "Aug 08, 2020 6:22:14 PM org.apache.pdfbox.rendering.PDFRenderer suggestKCMS\n",
      "INFO:   use the option -Dsun.java2d.cmm=sun.java2d.cmm.kcms.KcmsServiceProvider\n",
      "Aug 08, 2020 6:22:14 PM org.apache.pdfbox.rendering.PDFRenderer suggestKCMS\n",
      "INFO:   or call System.setProperty(\"sun.java2d.cmm\", \"sun.java2d.cmm.kcms.KcmsServiceProvider\")\n",
      "\n"
     ]
    },
    {
     "name": "stdout",
     "output_type": "stream",
     "text": [
      "\n",
      "                                                   0    1        2       3  \\\n",
      "0                                           Turnover    2   51,980  50,982   \n",
      "1                                   Operating profit    2    8,708  12,639   \n",
      "2  Which includes non-underlying item credits/(ch...    3  (1,239)   3,176   \n",
      "3                                  Net finance costs    5    (627)   (608)   \n",
      "4                                     Finance income  NaN      224     135   \n",
      "\n",
      "         4  \n",
      "0   53,715  \n",
      "1    8,957  \n",
      "2    (543)  \n",
      "3  (1,004)  \n",
      "4      157  \n"
     ]
    }
   ],
   "source": [
    "\n",
    "# use header: None as otherwise this pulls the first row as the column headers\n",
    "df = tabula.read_pdf(\"unilever2019.pdf\",pandas_options={'header': None}, pages=90)\n",
    "print(\"\")\n",
    "print(df[0].head(5))"
   ]
  },
  {
   "cell_type": "code",
   "execution_count": 21,
   "metadata": {},
   "outputs": [
    {
     "name": "stdout",
     "output_type": "stream",
     "text": [
      "<class 'pandas.core.frame.DataFrame'>\n",
      "RangeIndex: 22 entries, 0 to 21\n",
      "Data columns (total 5 columns):\n",
      " #   Column  Non-Null Count  Dtype \n",
      "---  ------  --------------  ----- \n",
      " 0   0       22 non-null     object\n",
      " 1   1       11 non-null     object\n",
      " 2   2       20 non-null     object\n",
      " 3   3       20 non-null     object\n",
      " 4   4       20 non-null     object\n",
      "dtypes: object(5)\n",
      "memory usage: 1008.0+ bytes\n",
      "None\n"
     ]
    }
   ],
   "source": [
    "# Profit and Loss Finder\n",
    "print(df[0].info())\n"
   ]
  },
  {
   "cell_type": "code",
   "execution_count": 22,
   "metadata": {},
   "outputs": [
    {
     "name": "stdout",
     "output_type": "stream",
     "text": [
      "{2019: {'Turnover': '51,980', 'Operating Profit': '8,708', 'Finance Costs': '(821)', 'Net Profit // /(Loss/)': '6,026', 'Profit // /(Loss/) Before Tax': '8,289'}, 2018: {'Turnover': '50,982', 'Operating Profit': '12,639', 'Finance Costs': '(718)', 'Net Profit // /(Loss/)': '9,788', 'Profit // /(Loss/) Before Tax': '12,360'}}\n"
     ]
    }
   ],
   "source": [
    "# Get Profit and Loss\n",
    "\n",
    "accounts_data_dict = financial_statement_functions.get_P_and_L_lines(df, year)\n",
    "print(accounts_data_dict)\n"
   ]
  },
  {
   "cell_type": "code",
   "execution_count": 23,
   "metadata": {},
   "outputs": [
    {
     "name": "stdout",
     "output_type": "stream",
     "text": [
      "                                 2019    2018\n",
      "Turnover                       51,980  50,982\n",
      "Operating Profit                8,708  12,639\n",
      "Finance Costs                   (821)   (718)\n",
      "Net Profit // /(Loss/)          6,026   9,788\n",
      "Profit // /(Loss/) Before Tax   8,289  12,360\n"
     ]
    }
   ],
   "source": [
    "\n",
    "# Save data to CSV\n",
    "\n",
    "cleaned_df = pd.DataFrame(data=accounts_data_dict)\n",
    "print(cleaned_df)\n",
    "cleaned_df.to_csv(r'%s_financials.csv' %company_Name, index = False)\n"
   ]
  },
  {
   "cell_type": "code",
   "execution_count": null,
   "metadata": {},
   "outputs": [],
   "source": []
  },
  {
   "cell_type": "code",
   "execution_count": null,
   "metadata": {},
   "outputs": [],
   "source": []
  },
  {
   "cell_type": "code",
   "execution_count": null,
   "metadata": {},
   "outputs": [],
   "source": []
  }
 ],
 "metadata": {
  "kernelspec": {
   "display_name": "Python 3",
   "language": "python",
   "name": "python3"
  },
  "language_info": {
   "codemirror_mode": {
    "name": "ipython",
    "version": 3
   },
   "file_extension": ".py",
   "mimetype": "text/x-python",
   "name": "python",
   "nbconvert_exporter": "python",
   "pygments_lexer": "ipython3",
   "version": "3.7.3"
  }
 },
 "nbformat": 4,
 "nbformat_minor": 2
}
