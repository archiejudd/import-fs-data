{
 "cells": [
  {
   "cell_type": "code",
   "execution_count": 1,
   "metadata": {},
   "outputs": [],
   "source": [
    "\n",
    "def get_P_and_L_lines(input_P_and_L_dataframe, year):\n",
    "    \n",
    "    P_and_L_current_year_dict = {}\n",
    "    P_and_L_prior_year_dict = {}\n",
    "    accounts_data_dict = {}\n",
    "    \n",
    "    # Need to generalise this function - currently specific for unilever\n",
    "    P_and_L_names_dataframe = input_P_and_L_dataframe[0][0]\n",
    "    P_and_L_current_year_dataframe = input_P_and_L_dataframe[0][2]\n",
    "    P_and_L_prior_year_dataframe = input_P_and_L_dataframe[0][3]\n",
    "        \n",
    "    for counter, P_and_L_name in enumerate(P_and_L_names_dataframe):\n",
    "\n",
    "        try:\n",
    "            d = math.isnan(P_and_L_name)\n",
    "        except:\n",
    "\n",
    "            if type(P_and_L_name)== str:\n",
    "                \n",
    "                if any(x in P_and_L_name.lower() for x in [\"turnover\", \"revenue\"]):\n",
    "                    P_and_L_current_year_dict[\"Turnover\"]= P_and_L_current_year_dataframe[counter]\n",
    "                    P_and_L_prior_year_dict[\"Turnover\"]= P_and_L_prior_year_dataframe[counter]\n",
    "\n",
    "                if any(x in P_and_L_name.lower() for x in [\"operating profit\"]):\n",
    "                    P_and_L_current_year_dict[\"Operating Profit\"]= P_and_L_current_year_dataframe[counter]\n",
    "                    P_and_L_prior_year_dict[\"Operating Profit\"]= P_and_L_prior_year_dataframe[counter]\n",
    "\n",
    "                if any(x in P_and_L_name.lower() for x in [\"finance costs\"]):\n",
    "                    P_and_L_current_year_dict[\"Finance Costs\"]= P_and_L_current_year_dataframe[counter]\n",
    "                    P_and_L_prior_year_dict[\"Finance Costs\"]= P_and_L_prior_year_dataframe[counter] \n",
    "\n",
    "                if any(x in P_and_L_name.lower() for x in [\"profit before taxation\", \"profit before tax\"]):\n",
    "                    P_and_L_current_year_dict[\"Profit or Loss Before Tax\"]= P_and_L_current_year_dataframe[counter]\n",
    "                    P_and_L_prior_year_dict[\"Profit or Loss Before Tax\"]= P_and_L_prior_year_dataframe[counter]\n",
    "\n",
    "                if any(x in P_and_L_name.lower() for x in [\"net profit\"]):\n",
    "                    P_and_L_current_year_dict[\"Net Profit or Loss\"]= P_and_L_current_year_dataframe[counter]\n",
    "                    P_and_L_prior_year_dict[\"Net Profit or Loss\"]= P_and_L_prior_year_dataframe[counter] \n",
    "        \n",
    "    accounts_data_dict[year[\"current\"]] = P_and_L_current_year_dict\n",
    "    accounts_data_dict[year[\"prior\"]] = P_and_L_prior_year_dict\n",
    "    \n",
    "    return accounts_data_dict\n"
   ]
  },
  {
   "cell_type": "code",
   "execution_count": null,
   "metadata": {},
   "outputs": [],
   "source": []
  }
 ],
 "metadata": {
  "kernelspec": {
   "display_name": "Python 3",
   "language": "python",
   "name": "python3"
  },
  "language_info": {
   "codemirror_mode": {
    "name": "ipython",
    "version": 3
   },
   "file_extension": ".py",
   "mimetype": "text/x-python",
   "name": "python",
   "nbconvert_exporter": "python",
   "pygments_lexer": "ipython3",
   "version": "3.7.3"
  }
 },
 "nbformat": 4,
 "nbformat_minor": 2
}
