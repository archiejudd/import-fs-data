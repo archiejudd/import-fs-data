{
 "cells": [
  {
   "cell_type": "code",
   "execution_count": 35,
   "metadata": {},
   "outputs": [],
   "source": [
    "import pandas as pd"
   ]
  },
  {
   "cell_type": "code",
   "execution_count": 36,
   "metadata": {},
   "outputs": [
    {
     "name": "stdout",
     "output_type": "stream",
     "text": [
      "  Admission Date                                   Company Name  Ticker  \\\n",
      "0     02/11/1995                              ACER INCORPORATED     NaN   \n",
      "1     27/07/1938                                        AECI LD     NaN   \n",
      "2     18/10/2018  ALEXANDRIA MINERAL OILS COMPANY (AMOC) S.A.E.     NaN   \n",
      "3     30/11/2010                       ALUMINIUM BAHRAIN B.S.C.     NaN   \n",
      "4     06/10/2017               AMER GROUP HOLDING COMPANY S.A.E     NaN   \n",
      "\n",
      "      ICB Industry ICB Super-Sector Country of Incorporation World Region  \\\n",
      "0       Technology       Technology                   Taiwan         Asia   \n",
      "1  Basic Materials        Chemicals             South Africa       Africa   \n",
      "2           Energy           Energy                    Egypt  Middle East   \n",
      "3  Basic Materials  Basic Resources                  Bahrain  Middle East   \n",
      "4      Real Estate      Real Estate                    Egypt  Middle East   \n",
      "\n",
      "                           Market International Issuer Company Market Cap (£m)  \n",
      "0  PROFESSIONAL SECURITIES MARKET                  Yes                       -  \n",
      "1                     MAIN MARKET                  Yes                       -  \n",
      "2       ADMISSION TO TRADING ONLY                  Yes                       -  \n",
      "3                     MAIN MARKET                  Yes                       -  \n",
      "4       ADMISSION TO TRADING ONLY                  Yes                       -  \n"
     ]
    }
   ],
   "source": [
    "df = pd.read_csv(\"LSE_data.csv\")\n",
    "print(df.head())\n",
    "# df.columns"
   ]
  },
  {
   "cell_type": "code",
   "execution_count": 38,
   "metadata": {},
   "outputs": [
    {
     "name": "stdout",
     "output_type": "stream",
     "text": [
      "Admission Date                                          11/07/1975\n",
      "Company Name                                     SAINSBURY (J) PLC\n",
      "Ticker                                                         NaN\n",
      "ICB Industry                                      Consumer Staples\n",
      "ICB Super-Sector            Personal Care, Drug and Grocery Stores\n",
      "Country of Incorporation                            United Kingdom\n",
      "World Region                                                Europe\n",
      "Market                                                 MAIN MARKET\n",
      "International Issuer                                            No\n",
      "Company Market Cap (£m)                                   4,656.17\n",
      "Name: 233, dtype: object\n"
     ]
    },
    {
     "data": {
      "text/plain": [
       "'SAINSBURY (J) PLC'"
      ]
     },
     "execution_count": 38,
     "metadata": {},
     "output_type": "execute_result"
    }
   ],
   "source": [
    "print(df.iloc[233])\n",
    "df.iloc[233][\"Company Name\"]"
   ]
  },
  {
   "cell_type": "code",
   "execution_count": 39,
   "metadata": {},
   "outputs": [
    {
     "data": {
      "text/plain": [
       "'LON_SBRY'"
      ]
     },
     "execution_count": 39,
     "metadata": {},
     "output_type": "execute_result"
    }
   ],
   "source": [
    "df.loc[company_data.index[233],\"Ticker\"]=\"LON_SBRY\"\n",
    "df.iloc[233][\"Ticker\"]"
   ]
  },
  {
   "cell_type": "code",
   "execution_count": 40,
   "metadata": {},
   "outputs": [],
   "source": [
    "df.to_csv(\"LSE_data.csv\",index=True)"
   ]
  },
  {
   "cell_type": "code",
   "execution_count": null,
   "metadata": {},
   "outputs": [],
   "source": []
  }
 ],
 "metadata": {
  "kernelspec": {
   "display_name": "Python 3",
   "language": "python",
   "name": "python3"
  },
  "language_info": {
   "codemirror_mode": {
    "name": "ipython",
    "version": 3
   },
   "file_extension": ".py",
   "mimetype": "text/x-python",
   "name": "python",
   "nbconvert_exporter": "python",
   "pygments_lexer": "ipython3",
   "version": "3.8.3"
  }
 },
 "nbformat": 4,
 "nbformat_minor": 4
}
